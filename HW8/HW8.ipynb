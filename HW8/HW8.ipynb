{
 "cells": [
  {
   "cell_type": "code",
   "execution_count": 1,
   "metadata": {},
   "outputs": [],
   "source": [
    "%load_ext lab_black"
   ]
  },
  {
   "cell_type": "code",
   "execution_count": 23,
   "metadata": {},
   "outputs": [],
   "source": [
    "import time\n",
    "import itertools\n",
    "import warnings\n",
    "\n",
    "import cvxpy as cp\n",
    "import numpy as np\n",
    "from numpy.linalg import norm\n",
    "import matplotlib.pyplot as plt\n",
    "\n",
    "np.random.seed(1)\n",
    "warnings.filterwarnings(\"ignore\", category=RuntimeWarning)"
   ]
  },
  {
   "cell_type": "markdown",
   "metadata": {},
   "source": [
    "## Question 1: Gradient and Newton methods\n",
    "Consider the unconstrained problem\n",
    "\n",
    "$$\n",
    "\\begin{array}{ll}\\mbox{minimize} &  f(x) = - \\sum_{i=1}^m \\log(1-a_i^T x)- \\sum_{i=1}^n \\log(1 - x_i^2),\\end{array}\n",
    "$$\n",
    "\n",
    "with variable $x \\in \\mathbf{R}^n$, and $\\mathbf{dom} f = \\{x \\;|\\; a_i^Tx <1, ~i=1, \\ldots, m, ~|x_i| <1, ~i=1, \\ldots, n\\}$. This is the problem of computing the analytic center of the set of linear inequalities\n",
    "\n",
    "$$\n",
    "a_i^Tx \\leq 1, \\quad i=1, \\ldots, m, \\qquad |x_i|\\leq 1,\\quad i=1, \\ldots, n.\n",
    "$$\n",
    "\n",
    "Note that we can choose $x^{(0)}=0$ as our initial point. You can generate instances of this problem by choosing $a_i$ from some distribution on $\\mathbf{R}^n$.\n",
    "\n",
    "(a) Use the gradient method to solve the problem, using reasonable choices for the backtracking parameters, and a stopping criterion of the form $\\| \\nabla f(x)\\|_2 \\leq \\eta$. Plot the objective function and step length versus iteration number. (Once you have determined $p^\\star$ to high accuracy, you can also plot $f-p^\\star$ versus iteration.) Experiment with the backtracking parameters $\\alpha$ and $\\beta$ to see their effect on the total number of iterations required. Carry these experiments out for several instances of the problem, of different sizes.\n",
    "\n",
    "(b) Repeat using Newton's method, with stopping criterion based on the Newton decrement $\\lambda^2$. Look for quadratic convergence. You do not have to use an efficient method to compute the Newton step, as in exercise 9.27; you can use a general purpose dense solver, although it is better to use one that is based on a Cholesky factorization.\n",
    "\n",
    "Hints. We recommend the following to generate a problem instance:\n",
    "```\n",
    "n = 100;\n",
    "m = 200;\n",
    "randn('state',1);\n",
    "A=randn(m,n);\n",
    "```\n",
    "Of course, you should try out your code with different dimensions, and different data as well.\n",
    "\n",
    "In all cases, be sure that your line search first finds a step length for which the tentative point is in $\\mathbf{dom} f$; if you attempt to evaluate $f$ outside its domain, you'll get complex numbers, and you'll never recover.\n",
    "\n",
    "To find expressions for  $\\nabla f(x)$ and $\\nabla^2 f(x)$, use the chain rule (see Appendix A.4); if you attempt to compute $\\partial ^2 f(x)/\\partial x_i \\partial x_j$, you will be sorry.\n",
    "\n",
    "To compute the Newton step, you can use `vnt=-H\\g`."
   ]
  },
  {
   "cell_type": "markdown",
   "metadata": {},
   "source": [
    "## Solution:\n",
    "$$\n",
    "A = [a_1, ..., a_m]^T \\\\\n",
    "\\nabla f(x) = A^T \\left(\\frac{1}{1-a_i^Tx}\\right)_{i=1}^m + \\left(\\frac{2x_i}{1-x_i^2}\\right)_{i=1}^n \\\\\n",
    "\\nabla^2 f(x) = 2A^T \\mathbf{diag}\\left((1-a_i^Tx)^{-2}\\right) A + \\mathbf{diag}\\left(\\frac{1}{(1-x_i)^2}+\\frac{1}{(1+x_i)^2} \\right) \\\\\n",
    "$$"
   ]
  },
  {
   "cell_type": "code",
   "execution_count": 3,
   "metadata": {},
   "outputs": [],
   "source": [
    "def f(x, A):\n",
    "    result = -np.log(1 - A @ x).sum()\n",
    "    result -= np.log(1 - np.power(x, 2)).sum()\n",
    "    return result\n",
    "\n",
    "\n",
    "def gradient(x, A):\n",
    "    return A.T @ (1 / (1 - A @ x)) + 2 * x / (1 - np.power(x, 2))\n",
    "\n",
    "\n",
    "def hessian(x, A):\n",
    "    result = 2 * A.T @ np.diag(np.power(1 - A @ x, -2).squeeze()) @ A\n",
    "    result += np.diag(np.power(1 - x, -2) + np.power(1 + x, -2))\n",
    "    return result\n",
    "\n",
    "\n",
    "def back_track(objective, grad_x, x, step, alpha, beta, verbose=False):\n",
    "    assert 0 < alpha < 0.5, \"alpha must lie in (0, 0.5)\"\n",
    "    assert 0 < beta < 1, \"beta must lie in (0, 1)\"\n",
    "    iters = 0\n",
    "    t = 1\n",
    "    f0 = objective(x)\n",
    "    f = objective(x + t * step)\n",
    "    while np.isnan(f) or f > f0 + alpha * t * grad_x.T @ step:\n",
    "        t *= beta\n",
    "        iters += 1\n",
    "        f = objective(x + t * step)\n",
    "    if verbose:\n",
    "        print(f\"Found t in {iters} iterations\")\n",
    "    return t\n",
    "\n",
    "\n",
    "def report(objective, xs, tol, iters, start, end):\n",
    "    digits = int(np.log(1 / tol) / np.log(10))\n",
    "    print(\n",
    "        f\"Optimal value {round(obj(xs[-1]), digits)} found in {iters} iterations and {end-start:0.2f} seconds.\"\n",
    "    )\n",
    "\n",
    "\n",
    "def gradient_descent(objective, gradient, x0, alpha, beta, tol=0.01, verbose=False):\n",
    "    iters = 0\n",
    "    steps = []\n",
    "    xs = []\n",
    "    x = np.copy(x0)\n",
    "    g = gradient(x)\n",
    "    start = time.time()\n",
    "    while norm(g) > tol:\n",
    "        step = -g\n",
    "        t = back_track(objective, g, x, step, alpha, beta)\n",
    "        x += t * step\n",
    "        g = gradient(x)\n",
    "        iters += 1\n",
    "        if verbose and iters % 100 == 0:\n",
    "            print(f\"{iters} iterations so far. Norm of grad is {norm(g)}\")\n",
    "        steps.append(np.copy(t * step))\n",
    "        xs.append(np.copy(x))\n",
    "    end = time.time()\n",
    "    report(objective, xs, tol, iters, start, end)\n",
    "    return steps, xs\n",
    "\n",
    "\n",
    "def λ2(gradient, hessian):\n",
    "    return gradient.T @ hessian @ gradient\n",
    "\n",
    "\n",
    "def newtons_method(\n",
    "    objective, gradient, hessian, x0, alpha, beta, tol=0.01, verbose=False\n",
    "):\n",
    "    iters = 0\n",
    "    steps = []\n",
    "    xs = []\n",
    "    x = np.copy(x0)\n",
    "    g = gradient(x)\n",
    "    h = hessian(x)\n",
    "    start = time.time()\n",
    "    while λ2(g, h) > 2 * tol:\n",
    "        newton_step = np.linalg.solve(-h, g)\n",
    "        t = back_track(objective, g, x, newton_step, alpha, beta)\n",
    "        x += t * newton_step\n",
    "        g = gradient(x)\n",
    "        h = hessian(x)\n",
    "        iters += 1\n",
    "        if verbose and iters % 100 == 0:\n",
    "            print(f\"{iters} iterations so far. Error is {λ2(g, h)/2}\")\n",
    "        steps.append(np.copy(t * newton_step))\n",
    "        xs.append(np.copy(x))\n",
    "    end = time.time()\n",
    "    report(objective, xs, tol, iters, start, end)\n",
    "    return steps, xs\n",
    "\n",
    "\n",
    "def plot(objective, steps, xs, title):\n",
    "\n",
    "    fig, axes = plt.subplots(1, 3, figsize=(20, 6))\n",
    "\n",
    "    iters = np.arange(len(xs))\n",
    "    y = np.array(list(map(objective, xs)))\n",
    "\n",
    "    ax = axes[0]\n",
    "    ax.plot(iters, y)\n",
    "    ax.set_xlabel(\"Iteration\")\n",
    "    ax.set_ylabel(r\"$f(x)$\")\n",
    "    ax.set_title(\"Objective\")\n",
    "\n",
    "    ax = axes[1]\n",
    "    ax.plot(iters, list(map(norm, steps)))\n",
    "    ax.set_xlabel(\"Iteration\")\n",
    "    ax.set_ylabel(r\"$t\\cdot||\\Delta x||_2$\")\n",
    "    ax.set_title(\"Step\")\n",
    "\n",
    "    ax = axes[2]\n",
    "    ax.plot(iters, y - y[-1])\n",
    "    ax.set_yscale(\"log\")\n",
    "    ax.set_xlabel(\"Iteration\")\n",
    "    ax.set_ylabel(r\"$f-p^\\star$\")\n",
    "    _ = ax.set_title(\"Error\")\n",
    "\n",
    "    fig.suptitle(title)\n",
    "    fig.tight_layout()\n",
    "    return fig"
   ]
  },
  {
   "cell_type": "code",
   "execution_count": 4,
   "metadata": {},
   "outputs": [],
   "source": [
    "n = 100\n",
    "m = 200\n",
    "A = np.random.randn(m, n)\n",
    "\n",
    "alpha = 0.02\n",
    "beta = 0.6\n",
    "tol = 1e-4\n",
    "\n",
    "obj = lambda x: f(x, A)\n",
    "grad = lambda x: gradient(x, A)\n",
    "hess = lambda x: hessian(x, A)\n",
    "x0 = np.zeros((n, 1))"
   ]
  },
  {
   "cell_type": "code",
   "execution_count": 5,
   "metadata": {},
   "outputs": [
    {
     "name": "stdout",
     "output_type": "stream",
     "text": [
      "Optimal value -186.2072 found in 615 iterations and 0.39 seconds.\n"
     ]
    }
   ],
   "source": [
    "steps, xs = gradient_descent(obj, grad, x0, alpha, beta, tol)"
   ]
  },
  {
   "cell_type": "code",
   "execution_count": 6,
   "metadata": {},
   "outputs": [
    {
     "data": {
      "image/png": "[encoded data removed]",
      "text/plain": [
       "<Figure size 1440x432 with 3 Axes>"
      ]
     },
     "metadata": {
      "needs_background": "light"
     },
     "output_type": "display_data"
    }
   ],
   "source": [
    "fig = plot(obj, steps, xs, \"Gradient Descent\")"
   ]
  },
  {
   "cell_type": "code",
   "execution_count": 7,
   "metadata": {},
   "outputs": [
    {
     "name": "stdout",
     "output_type": "stream",
     "text": [
      "Optimal value -186.2072 found in 347 iterations and 0.22 seconds.\n"
     ]
    }
   ],
   "source": [
    "steps2, xs2 = newtons_method(obj, grad, hess, x0, alpha, beta, tol)"
   ]
  },
  {
   "cell_type": "code",
   "execution_count": 8,
   "metadata": {},
   "outputs": [
    {
     "data": {
      "image/png": "[encoded data removed]",
      "text/plain": [
       "<Figure size 1440x432 with 3 Axes>"
      ]
     },
     "metadata": {
      "needs_background": "light"
     },
     "output_type": "display_data"
    }
   ],
   "source": [
    "fig = plot(obj, steps2, xs2, \"Newton's Method\")"
   ]
  },
  {
   "cell_type": "markdown",
   "metadata": {},
   "source": [
    "## Question 3: Flux balance analysis in systems biology\n",
    "Flux balance analysis is based on a very simple model of the reactions going on in a cell, keeping track only of the gross rate of consumption and production of various chemical species within the cell. Based on the known stoichiometry of the reactions, and known upper bounds on some of the reaction rates, we can compute bounds on the other reaction rates, or cell growth, for example.\n",
    "\n",
    "We focus on $m$ metabolites in a cell, labeled $M_1,\\ldots, M_m$. There are $n$ reactions going on, labeled $R_1, \\ldots, R_n$, with nonnegative reaction rates $v_1, \\ldots, v_n$. Each reaction has a (known) stoichiometry, which tells us the rate of consumption and production of the metabolites per unit of reaction rate. The stoichiometry data is given by the *stoichiometry matrix* $S \\in \\mathbf{R}^{m \\times n}$, defined as follows: $S_{ij}$ is the rate of production of $M_i$ due to unit reaction rate $v_j=1$. Here we consider consumption of a metabolite as negative production; so $S_{ij}=−2$, for example, means that reaction $R_j$ causes metabolite $M_i$ to be consumed at a rate $2v_j$.\n",
    "\n",
    "As an example, suppose reaction $R_1$ has the form $M_1 \\rightarrow M_2 + 2 M_3$ The consumption rate of $M_1$, due to this reaction, is $v_1$; the production rate of $M_2$ is  $v_1$; and the production rate of $M_3$ is $2v_1$. (The reaction $R_1$ has no effect on metabolites $M_4, \\ldots, M_m$.) This corresponds to a first column of $S$ of the form  $(−1,1,2,0,…,0)$.\n",
    "\n",
    "Reactions are also used to model flow of metabolites into and out of the cell. For example, suppose that reaction $R_2$ corresponds to the flow of metabolite $M_1$ into the cell, with $v_2$ giving the flow rate. This corresponds to a second column of $S$ of the form $(1,0,…,0)$.\n",
    "\n",
    "The last reaction, $R_n$ , corresponds to biomass creation, or cell growth, so the reaction rate $v_n$ is the cell growth rate. The last column of $S$ gives the amounts of metabolites used or created per unit of cell growth rate.\n",
    "\n",
    "Since our reactions include metabolites entering or leaving the cell, as well as those converted to biomass within the cell, we have conservation of the metabolites, which can be expressed as $Sv=0$. In addition, we are given upper limits on some of the reaction rates, which we express as $v \\preceq v^\\mathrm{max}$, where we set $v^\\mathrm{max}_j=\\infty$ if no upper limit on reaction rate $j$ is known. The goal is to find the maximum possible cell growth rate (i.e., largest possible value of $v_n$) consistent with the constraints\n",
    "$$\n",
    "Sv = 0, \\qquad v \\succeq 0, \\qquad v \\preceq v^\\mathrm{max}.\n",
    "$$\n",
    "The questions below pertain to the data found in `fba_data.m`."
   ]
  },
  {
   "cell_type": "code",
   "execution_count": 9,
   "metadata": {},
   "outputs": [],
   "source": [
    "# data file for flux balance analysis in systems biology\n",
    "# From Segre, Zucker et al \"From annotated genomes to metabolic flux\n",
    "# models and kinetic parameter fitting\" OMICS 7 (3), 301-316.\n",
    "\n",
    "S = np.array(\n",
    "    [  # Stoichiometric matrix\n",
    "        # M1 M2\tM3 M4 M5 M6\n",
    "        [1, 0, 0, 0, 0, 0],  # R1:  extracellular -->  M1\n",
    "        [-1, 1, 0, 0, 0, 0],  # R2:  M1 -->  M2\n",
    "        [-1, 0, 1, 0, 0, 0],  # R3:  M1 -->  M3\n",
    "        [0, -1, 0, 2, -1, 0],  # R4:  M2 + M5 --> 2 M4\n",
    "        [0, 0, 0, 0, 1, 0],  # R5:  extracellular -->  M5\n",
    "        [0, -2, 1, 0, 0, 1],  # R6:  2 M2 -->  M3 + M6\n",
    "        [0, 0, -1, 1, 0, 0],  # R7:  M3 -->  M4\n",
    "        [0, 0, 0, 0, 0, -1],  # R8:  M6 --> extracellular\n",
    "        [0, 0, 0, -1, 0, 0],  # R9:  M4 --> cell biomass\n",
    "    ]\n",
    ").T\n",
    "\n",
    "m, n = S.shape\n",
    "vmax = np.array(\n",
    "    [\n",
    "        10.10,  # R1:  extracellular -->  M1\n",
    "        100,  # R2:  M1 -->  M2\n",
    "        5.90,  # R3:  M1 -->  M3\n",
    "        100,  # R4:  M2 + M5 --> 2 M4\n",
    "        3.70,  # R5:  extracellular -->  M5\n",
    "        100,  # R6:  2 M2 --> M3 + M6\n",
    "        100,  # R7:  M3 -->  M4\n",
    "        100,  # R8:  M6 -->  extracellular\n",
    "        100,  # R9:  M4 -->  cell biomass\n",
    "    ]\n",
    ")"
   ]
  },
  {
   "cell_type": "markdown",
   "metadata": {},
   "source": [
    "(a) What the maximum possible cell growth rate  $G^\\star$?"
   ]
  },
  {
   "cell_type": "code",
   "execution_count": 10,
   "metadata": {},
   "outputs": [],
   "source": [
    "v = cp.Variable(n, nonneg=True)\n",
    "constraints = [S @ v == 0, v <= vmax]\n",
    "obj = cp.Maximize(v[-1])\n",
    "prob = cp.Problem(obj, constraints)"
   ]
  },
  {
   "cell_type": "code",
   "execution_count": 11,
   "metadata": {},
   "outputs": [
    {
     "data": {
      "text/plain": [
       "13.54999999695169"
      ]
     },
     "execution_count": 11,
     "metadata": {},
     "output_type": "execute_result"
    }
   ],
   "source": [
    "prob.solve()"
   ]
  },
  {
   "cell_type": "code",
   "execution_count": 12,
   "metadata": {},
   "outputs": [
    {
     "data": {
      "text/plain": [
       "array([10.1 ,  4.2 ,  5.9 ,  3.7 ,  3.7 ,  0.25,  6.15,  0.25, 13.55])"
      ]
     },
     "execution_count": 12,
     "metadata": {},
     "output_type": "execute_result"
    }
   ],
   "source": [
    "v.value"
   ]
  },
  {
   "cell_type": "markdown",
   "metadata": {},
   "source": [
    "Which of the reaction rate limits have nonzero optimal Lagrange multipliers?"
   ]
  },
  {
   "cell_type": "code",
   "execution_count": 14,
   "metadata": {},
   "outputs": [
    {
     "data": {
      "text/plain": [
       "[(1, 0.5000000015465667), (3, 0.49999999885838103), (5, 1.499999999084475)]"
      ]
     },
     "execution_count": 14,
     "metadata": {},
     "output_type": "execute_result"
    }
   ],
   "source": [
    "binding_constraints = [\n",
    "    (i, λ) for i, λ in enumerate(constraints[1].dual_value, start=1) if λ > 1e-10\n",
    "]\n",
    "binding_constraints"
   ]
  },
  {
   "cell_type": "markdown",
   "metadata": {},
   "source": [
    "Which of the reaction rate limits is the maximum growth rate most sensitive to?"
   ]
  },
  {
   "cell_type": "code",
   "execution_count": 15,
   "metadata": {},
   "outputs": [
    {
     "data": {
      "text/plain": [
       "(5, 1.499999999084475)"
      ]
     },
     "execution_count": 15,
     "metadata": {},
     "output_type": "execute_result"
    }
   ],
   "source": [
    "max(binding_constraints, key=lambda x: x[1])"
   ]
  },
  {
   "cell_type": "markdown",
   "metadata": {},
   "source": [
    "(b) Essential genes and synthetic lethals. For simplicity, we'll assume that each reaction is controlled by an associated gene, i.e., gene $G_i$ controls reaction $R_i$. Knocking out a set of genes associated with some reactions has the effect of setting the reaction rates (or equivalently, the associated $v^\\max$ entries) to zero, which of course reduces the maximum possible growth rate. If the maximum growth rate becomes small enough or zero, it is reasonable to guess that knocking out the set of genes will kill the cell. An essential gene is one that when knocked out reduces the maximum growth rate below a given threshold $G^\\min$. (Note that $G_n$ is always an essential gene.) A synthetic lethal is a pair of non-essential genes that when knocked out reduces the maximum growth rate below the threshold. Find all essential genes and synthetic lethals for the given problem instance, using .\n",
    "\n",
    "Given the threshold $G^\\mathrm{min} = 0.2 G^\\star$, which of the following genes are essential?"
   ]
  },
  {
   "cell_type": "code",
   "execution_count": 16,
   "metadata": {},
   "outputs": [
    {
     "data": {
      "text/plain": [
       "2.7099999993903383"
      ]
     },
     "execution_count": 16,
     "metadata": {},
     "output_type": "execute_result"
    }
   ],
   "source": [
    "G_min = 0.2 * prob.value\n",
    "G_min"
   ]
  },
  {
   "cell_type": "code",
   "execution_count": 17,
   "metadata": {},
   "outputs": [
    {
     "name": "stdout",
     "output_type": "stream",
     "text": [
      "v_1 is an essential gene: G_new=0.000\n",
      "v_2 is NOT an essential gene: G_new=5.900\n",
      "v_3 is NOT an essential gene: G_new=10.600\n",
      "v_4 is NOT an essential gene: G_new=8.000\n",
      "v_5 is NOT an essential gene: G_new=8.000\n",
      "v_6 is NOT an essential gene: G_new=13.300\n",
      "v_7 is NOT an essential gene: G_new=7.400\n",
      "v_8 is NOT an essential gene: G_new=13.300\n",
      "v_9 is an essential gene: G_new=-0.000\n"
     ]
    }
   ],
   "source": [
    "for i in range(n):\n",
    "    new_constraints = constraints + [v[i] == 0]\n",
    "    assert len(new_constraints) == len(constraints) + 1\n",
    "    new_prob = cp.Problem(obj, new_constraints)\n",
    "    G_new = new_prob.solve()\n",
    "    if G_new < G_min:\n",
    "        print(f\"v_{i+1} is an essential gene: G_new={G_new:0.3f}\")\n",
    "    else:\n",
    "        print(f\"v_{i+1} is NOT an essential gene: G_new={G_new:0.3f}\")"
   ]
  },
  {
   "cell_type": "markdown",
   "metadata": {},
   "source": [
    "Given the threshold $G^\\mathrm{min} = 0.2 G^\\star$, which of the following gene pairs are synthetic lethals?"
   ]
  },
  {
   "cell_type": "code",
   "execution_count": 18,
   "metadata": {},
   "outputs": [],
   "source": [
    "gene_pairs = (\n",
    "    (2, 3),\n",
    "    (2, 5),\n",
    "    (2, 7),\n",
    "    (3, 4),\n",
    "    (4, 6),\n",
    "    (4, 7),\n",
    "    (5, 6),\n",
    "    (5, 7),\n",
    "    (6, 8),\n",
    "    (7, 8),\n",
    ")"
   ]
  },
  {
   "cell_type": "code",
   "execution_count": 19,
   "metadata": {},
   "outputs": [
    {
     "name": "stdout",
     "output_type": "stream",
     "text": [
      "(v_2,v_3) is a synthetic lethal: G_new=-0.000\n",
      "(v_2,v_5) is NOT: G_new=5.900\n",
      "(v_2,v_7) is a synthetic lethal: G_new=0.000\n",
      "(v_3,v_4) is NOT: G_new=5.050\n",
      "(v_4,v_6) is NOT: G_new=5.900\n",
      "(v_4,v_7) is a synthetic lethal: G_new=-0.000\n",
      "(v_5,v_6) is NOT: G_new=5.900\n",
      "(v_5,v_7) is a synthetic lethal: G_new=-0.000\n",
      "(v_6,v_8) is NOT: G_new=13.300\n",
      "(v_7,v_8) is NOT: G_new=7.400\n"
     ]
    }
   ],
   "source": [
    "for i, j in gene_pairs:\n",
    "    new_constraints = constraints + [v[i - 1] == 0, v[j - 1] == 0]\n",
    "    assert len(new_constraints) == len(constraints) + 2\n",
    "    new_prob = cp.Problem(obj, new_constraints)\n",
    "    G_new = new_prob.solve()\n",
    "    if G_new < G_min:\n",
    "        print(f\"(v_{i},v_{j}) is a synthetic lethal: G_new={G_new:0.3f}\")\n",
    "    else:\n",
    "        print(f\"(v_{i},v_{j}) is NOT: G_new={G_new:0.3f}\")"
   ]
  },
  {
   "cell_type": "markdown",
   "metadata": {},
   "source": [
    "## Question 4: Online advertising displays\n",
    "When a user goes to a website, one of a set of $n$ ads, labeled  $1,...,n$, is displayed. This is called an *impression*. We divide some time interval (say, one day) into $T$ periods, labeled $t=1,...,T$. Let  $N_{it}\\ge0$ denote the number of impressions in period $t$ for which we display ad $i$. In period $t$ there will be a total of $I_t>0$ impressions, so we must have $\\sum_{i=1}^n N_{it} = I_t$, for $t=1, \\ldots, T$. (The numbers $I_t$ might be known from past history.) You can treat all these numbers as real. (This is justified since they are typically very large.)\n",
    "\n",
    "The revenue for displaying ad $i$ in period $t$ is $R_{it} \\geq 0$ per impression. (This might come from click-through payments, for example.) The total revenue is $\\sum_{t=1}^T \\sum_{i=1}^n R_{it} N_{it}$. To maximize revenue, we would simply display the ad with the highest revenue per impression, and no other, in each display period.\n",
    "\n",
    "We also have in place a set of  𝑚  contracts that require us to display certain numbers of ads, or mixes of ads (say, associated with the products of one company), over certain periods, with a penalty for any shortfalls. Contract $j$ is characterized by a set of ads $\\mathcal A_j \\subseteq \\{1,\\ldots, n\\}$ (while it does not affect the math, these are often disjoint), a set of periods $\\mathcal T_j \\subseteq \\{1, \\ldots, T\\}$, a target number of impressions $q_j \\ge 0$, and a shortfall penalty rate $p_j > 0$.\n",
    "\n",
    "The *shortfall* $s_j$ for contract $j$ is\n",
    "$$\n",
    "s_j = \\left( q_j - \\sum_{t \\in \\mathcal T_j} \\sum_{i \\in A_j} N_{it}\\right)_+,\n",
    "$$\n",
    "where $(u)_+$  means $\\max\\{u,0\\}$. (This is the number of impressions by which we fall short of the target value $q_j$.) Our contracts require a total penalty payment equal to $\\sum_{j=1}^m p_j s_j$. Our net profit is the total revenue minus the total penalty payment.\n",
    "\n",
    "Use convex optimization to find the display numbers $N_{it}$ that maximize net profit. The data in this problem are $R \\in \\mathbf{R}^{n \\times T}$, $I\\in \\mathbf{R}^T$ (here $I$ is the vector of impressions, not the identity matrix), and the contract data $\\mathcal A_j$, $mathcal T_j$, $q_j$, and  $p_j$, $j =1, \\ldots, m$.\n",
    "\n",
    "Carry out your method on the problem with data given in `ad_disp_data.m`. The data $\\mathcal A_j$ and $mathcal T_j$, for $j =1, \\ldots, m$ are given by matrices $A^\\mathrm{contr}\\in \\mathbf{R}^{n \\times m}$ and $T^\\mathrm{contr}\\in \\mathbf{R}^{T \\times m}$, with\n",
    "\n",
    "$$\n",
    "A^\\mathrm{contr}_{ij}=\\left\\{\\begin{array}{ll}1 & i\\in \\mathcal A_j\\\\0 & \\mbox{otherwise},\\end{array}\\right. \\qquad T^\\mathrm{contr}_{tj}=\\left\\{\\begin{array}{ll}1 & t\\in \\mathcal T_j\\\\0 & \\mbox{otherwise}.\\end{array}\\right.\n",
    "$$"
   ]
  },
  {
   "cell_type": "code",
   "execution_count": 62,
   "metadata": {},
   "outputs": [],
   "source": [
    "def read_matrix(filename, sep=\",\"):\n",
    "    matrix = []\n",
    "    with open(filename, \"r\") as file:\n",
    "        for line in file.readlines():\n",
    "            row = [float(x) for x in line.split(sep)]\n",
    "            matrix.append(row)\n",
    "    return np.array(matrix).squeeze()"
   ]
  },
  {
   "cell_type": "code",
   "execution_count": 70,
   "metadata": {},
   "outputs": [],
   "source": [
    "# Data generated from MATLAB\n",
    "I = read_matrix(\"I.txt\")\n",
    "R = read_matrix(\"R.txt\")\n",
    "q = read_matrix(\"q.txt\")\n",
    "p = read_matrix(\"p.txt\")\n",
    "T_contr = read_matrix(\"T_contr.txt\").astype(bool)\n",
    "A_contr = read_matrix(\"A_contr.txt\").astype(bool)\n",
    "\n",
    "n = R.shape[0]  # number of ads\n",
    "m = q.shape[0]  # number of contracts\n",
    "T = R.shape[1]  # number of periods"
   ]
  },
  {
   "cell_type": "code",
   "execution_count": 71,
   "metadata": {},
   "outputs": [
    {
     "data": {
      "text/plain": [
       "((60,), (100, 60), (30,), (30,), (100, 30), (60, 30))"
      ]
     },
     "execution_count": 71,
     "metadata": {},
     "output_type": "execute_result"
    }
   ],
   "source": [
    "I.shape, R.shape, q.shape, p.shape, A_contr.shape, T_contr.shape"
   ]
  },
  {
   "cell_type": "markdown",
   "metadata": {},
   "source": [
    "### Solution 1: Using link variables"
   ]
  },
  {
   "cell_type": "code",
   "execution_count": 72,
   "metadata": {},
   "outputs": [],
   "source": [
    "N = cp.Variable((n, T), nonneg=True)\n",
    "link = cp.Variable(m, nonneg=True)\n",
    "\n",
    "shortfalls = []\n",
    "for qj, Aj, Tj in zip(q.ravel(), A_contr.T, T_contr.T):\n",
    "    shortfall = qj - sum(\n",
    "        N[i, j]\n",
    "        for (i, a), (j, t) in itertools.product(enumerate(Aj), enumerate(Tj))\n",
    "        if a == 1 and t == 1\n",
    "    )\n",
    "    shortfalls.append(shortfall)\n",
    "\n",
    "constraints = [l >= s for l, s in zip(link, shortfalls)]\n",
    "constraints += [cp.sum(N, axis=0) == I]\n",
    "\n",
    "revenue = cp.sum(cp.multiply(R, N))\n",
    "penalty_payment = p @ link\n",
    "obj = cp.Maximize(revenue - penalty_payment)\n",
    "prob = cp.Problem(obj, constraints)"
   ]
  },
  {
   "cell_type": "code",
   "execution_count": 73,
   "metadata": {},
   "outputs": [
    {
     "data": {
      "text/plain": [
       "230.56651562462235"
      ]
     },
     "execution_count": 73,
     "metadata": {},
     "output_type": "execute_result"
    }
   ],
   "source": [
    "prob.solve()"
   ]
  },
  {
   "cell_type": "code",
   "execution_count": 74,
   "metadata": {},
   "outputs": [
    {
     "data": {
      "text/plain": [
       "(268.2323449188094, 37.665829289797315)"
      ]
     },
     "execution_count": 74,
     "metadata": {},
     "output_type": "execute_result"
    }
   ],
   "source": [
    "revenue.value, penalty_payment.value"
   ]
  },
  {
   "cell_type": "markdown",
   "metadata": {},
   "source": [
    "### Solution 2: Formulating the penatly as positive part of diagonal."
   ]
  },
  {
   "cell_type": "code",
   "execution_count": 75,
   "metadata": {},
   "outputs": [],
   "source": [
    "N2 = cp.Variable((n, T), nonneg=True)\n",
    "\n",
    "constraints2 = [cp.sum(N2, axis=0) == I]\n",
    "\n",
    "revenue2 = cp.sum(cp.multiply(R, N2))\n",
    "penalty_payment2 = p @ cp.pos(q - cp.diag(A_contr.T @ N2 @ T_contr))\n",
    "\n",
    "obj2 = cp.Maximize(revenue2 - penalty_payment2)\n",
    "prob2 = cp.Problem(obj2, constraints2)"
   ]
  },
  {
   "cell_type": "code",
   "execution_count": 76,
   "metadata": {},
   "outputs": [
    {
     "data": {
      "text/plain": [
       "230.56651562462224"
      ]
     },
     "execution_count": 76,
     "metadata": {},
     "output_type": "execute_result"
    }
   ],
   "source": [
    "prob2.solve()"
   ]
  },
  {
   "cell_type": "markdown",
   "metadata": {},
   "source": [
    "What is the optimal net profit?"
   ]
  },
  {
   "cell_type": "code",
   "execution_count": 78,
   "metadata": {},
   "outputs": [
    {
     "data": {
      "text/plain": [
       "230.56651562462235"
      ]
     },
     "execution_count": 78,
     "metadata": {},
     "output_type": "execute_result"
    }
   ],
   "source": [
    "prob.value"
   ]
  },
  {
   "cell_type": "markdown",
   "metadata": {},
   "source": [
    "What is the revenue associated with the optimal net profit?"
   ]
  },
  {
   "cell_type": "code",
   "execution_count": 79,
   "metadata": {},
   "outputs": [
    {
     "data": {
      "text/plain": [
       "268.2323449188094"
      ]
     },
     "execution_count": 79,
     "metadata": {},
     "output_type": "execute_result"
    }
   ],
   "source": [
    "revenue.value"
   ]
  },
  {
   "cell_type": "markdown",
   "metadata": {},
   "source": [
    "What is the total penalty payment associated with the optimal net profit?"
   ]
  },
  {
   "cell_type": "code",
   "execution_count": 80,
   "metadata": {},
   "outputs": [
    {
     "data": {
      "text/plain": [
       "37.665829289797315"
      ]
     },
     "execution_count": 80,
     "metadata": {},
     "output_type": "execute_result"
    }
   ],
   "source": [
    "penalty_payment.value"
   ]
  },
  {
   "cell_type": "markdown",
   "metadata": {},
   "source": [
    "What is the net profit if we were to display only the ad with the largest revenue per impression?"
   ]
  },
  {
   "cell_type": "code",
   "execution_count": 138,
   "metadata": {},
   "outputs": [],
   "source": [
    "N3 = cp.Variable((n, T), nonneg=True)\n",
    "constraints3 = [cp.sum(N3, axis=0) == I]\n",
    "revenue3 = cp.sum(cp.multiply(R, N3))\n",
    "obj3 = cp.Maximize(revenue3)\n",
    "prob3 = cp.Problem(obj3, constraints3)"
   ]
  },
  {
   "cell_type": "code",
   "execution_count": 139,
   "metadata": {},
   "outputs": [
    {
     "data": {
      "text/plain": [
       "305.1017911244956"
      ]
     },
     "execution_count": 139,
     "metadata": {},
     "output_type": "execute_result"
    }
   ],
   "source": [
    "prob3.solve()"
   ]
  },
  {
   "cell_type": "code",
   "execution_count": 141,
   "metadata": {},
   "outputs": [
    {
     "data": {
      "text/plain": [
       "72.84233040872351"
      ]
     },
     "execution_count": 141,
     "metadata": {},
     "output_type": "execute_result"
    }
   ],
   "source": [
    "penalty_payment3 = p @ cp.pos(q - cp.diag(A_contr.T @ N3 @ T_contr))\n",
    "net_profit3 = revenue3.value - penalty_payment3.value\n",
    "net_profit3"
   ]
  },
  {
   "cell_type": "markdown",
   "metadata": {},
   "source": [
    "What is the revenue if we were to display only the ad with the largest revenue per impression?"
   ]
  },
  {
   "cell_type": "code",
   "execution_count": 142,
   "metadata": {},
   "outputs": [
    {
     "data": {
      "text/plain": [
       "305.10179112449526"
      ]
     },
     "execution_count": 142,
     "metadata": {},
     "output_type": "execute_result"
    }
   ],
   "source": [
    "revenue3.value"
   ]
  },
  {
   "cell_type": "markdown",
   "metadata": {},
   "source": [
    "What is the total penalty if we were to display only the ad with the largest revenue per impression?"
   ]
  },
  {
   "cell_type": "code",
   "execution_count": 143,
   "metadata": {},
   "outputs": [
    {
     "data": {
      "text/plain": [
       "232.25946071577175"
      ]
     },
     "execution_count": 143,
     "metadata": {},
     "output_type": "execute_result"
    }
   ],
   "source": [
    "penalty_payment3.value"
   ]
  },
  {
   "cell_type": "markdown",
   "metadata": {},
   "source": [
    "## Question 5: Ranking by aggregating preferences\n"
   ]
  }
 ],
 "metadata": {
  "kernelspec": {
   "display_name": "Python 3",
   "language": "python",
   "name": "python3"
  },
  "language_info": {
   "codemirror_mode": {
    "name": "ipython",
    "version": 3
   },
   "file_extension": ".py",
   "mimetype": "text/x-python",
   "name": "python",
   "nbconvert_exporter": "python",
   "pygments_lexer": "ipython3",
   "version": "3.6.10"
  }
 },
 "nbformat": 4,
 "nbformat_minor": 4
}
