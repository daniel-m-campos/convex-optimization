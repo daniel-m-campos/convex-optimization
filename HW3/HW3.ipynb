{
 "cells": [
  {
   "cell_type": "code",
   "execution_count": 1,
   "metadata": {},
   "outputs": [],
   "source": [
    "%load_ext lab_black"
   ]
  },
  {
   "cell_type": "code",
   "execution_count": 2,
   "metadata": {},
   "outputs": [],
   "source": [
    "import cvxpy as cp\n",
    "import numpy as np\n",
    "import matplotlib.pyplot as plt"
   ]
  },
  {
   "cell_type": "markdown",
   "metadata": {},
   "source": [
    "$$\n",
    "\\begin{array}{ll}\n",
    "\\mbox{minimize} & f_0(x_1,x_2) \\\\\n",
    "\\mbox{subject to} & 2x_1+x_2 \\geq 1 \\\\\n",
    "          & x_1 +3x_2 \\geq 1 \\\\\n",
    "          & x_1 \\geq 0, \\quad x_2\\geq 0.\n",
    "\\end{array}\n",
    "$$"
   ]
  },
  {
   "cell_type": "markdown",
   "metadata": {},
   "source": [
    "## Question 2"
   ]
  },
  {
   "cell_type": "code",
   "execution_count": 3,
   "metadata": {},
   "outputs": [],
   "source": [
    "# Define and solve the CVXPY problem.\n",
    "x1 = cp.Variable()\n",
    "x2 = cp.Variable()\n",
    "\n",
    "constraints = [2 * x1 + x2 >= 1, x1 + 3 * x2 >= 1, x1 >= 0, x2 >= 0]"
   ]
  },
  {
   "cell_type": "markdown",
   "metadata": {},
   "source": [
    "### Part 1\n",
    "$\n",
    "f_0(x_1,x_2) = x_1+x_2\n",
    "$"
   ]
  },
  {
   "cell_type": "code",
   "execution_count": 4,
   "metadata": {},
   "outputs": [
    {
     "data": {
      "text/plain": [
       "0.5999999999116253"
      ]
     },
     "execution_count": 4,
     "metadata": {},
     "output_type": "execute_result"
    }
   ],
   "source": [
    "obj = cp.Minimize(x1 + x2)\n",
    "prob = cp.Problem(obj, constraints)\n",
    "prob.solve()"
   ]
  },
  {
   "cell_type": "markdown",
   "metadata": {},
   "source": [
    "### Part \n",
    "$\n",
    "f_0(x_1,x_2) = x_1^2 + 9x_2^2\n",
    "$"
   ]
  },
  {
   "cell_type": "code",
   "execution_count": 5,
   "metadata": {},
   "outputs": [
    {
     "data": {
      "text/plain": [
       "0.5000000000000003"
      ]
     },
     "execution_count": 5,
     "metadata": {},
     "output_type": "execute_result"
    }
   ],
   "source": [
    "obj = cp.Minimize(x1 ** 2 + 9 * x2 ** 2)\n",
    "prob = cp.Problem(obj, constraints)\n",
    "prob.solve()"
   ]
  },
  {
   "cell_type": "markdown",
   "metadata": {},
   "source": [
    "## Question 3\n",
    "### Boolean LP\n",
    "$$\n",
    "\\begin{array}{ll}\\mbox{minimize} & c^Tx \\\\ \\mbox{subject to} & Ax \\preceq b\\\\ & x_i \\in \\{0,1\\}, \\quad i=1, \\ldots, n, \\end{array}\n",
    "$$\n",
    "\n",
    "### Relax LP\n",
    "$$\n",
    "\\begin{array}{ll} \\mbox{minimize} & c^Tx \\\\\\mbox{subject to} & Ax \\preceq b\\\\ & 0 \\preceq  x \\preceq \\mathbf{1},\\end{array}\n",
    "$$"
   ]
  },
  {
   "cell_type": "code",
   "execution_count": 6,
   "metadata": {},
   "outputs": [],
   "source": [
    "def read_matrix(filename, sep=\",\"):\n",
    "    matrix = []\n",
    "    with open(filename, \"r\") as file:\n",
    "        for line in file.readlines():\n",
    "            row = [float(x) for x in line.split(sep)]\n",
    "            matrix.append(row)\n",
    "    return np.matrix(matrix)"
   ]
  },
  {
   "cell_type": "code",
   "execution_count": 7,
   "metadata": {},
   "outputs": [],
   "source": [
    "A = read_matrix(\"A.txt\")"
   ]
  },
  {
   "cell_type": "code",
   "execution_count": 8,
   "metadata": {},
   "outputs": [
    {
     "data": {
      "text/plain": [
       "(300, 1)"
      ]
     },
     "execution_count": 8,
     "metadata": {},
     "output_type": "execute_result"
    }
   ],
   "source": [
    "len(A), len(A[0])"
   ]
  },
  {
   "cell_type": "code",
   "execution_count": 9,
   "metadata": {},
   "outputs": [
    {
     "data": {
      "text/plain": [
       "(300, 100)"
      ]
     },
     "execution_count": 9,
     "metadata": {},
     "output_type": "execute_result"
    }
   ],
   "source": [
    "A.shape"
   ]
  },
  {
   "cell_type": "code",
   "execution_count": 10,
   "metadata": {},
   "outputs": [
    {
     "data": {
      "text/plain": [
       "matrix([[0.95012929, 0.36031117, 0.89520169, 0.0271904 , 0.07691701],\n",
       "        [0.23113851, 0.54851281, 0.94238725, 0.79366702, 0.72091503],\n",
       "        [0.60684258, 0.26176957, 0.33508338, 0.99923075, 0.76491151],\n",
       "        [0.48598247, 0.59734485, 0.43736382, 0.11023852, 0.65794492],\n",
       "        [0.89129897, 0.049278  , 0.47115591, 0.62260116, 0.81040852]])"
      ]
     },
     "execution_count": 10,
     "metadata": {},
     "output_type": "execute_result"
    }
   ],
   "source": [
    "A[:5, :5]"
   ]
  },
  {
   "cell_type": "code",
   "execution_count": 11,
   "metadata": {},
   "outputs": [],
   "source": [
    "n = 100\n",
    "m = 300\n",
    "A = read_matrix(\"A.txt\")\n",
    "c = read_matrix(\"c.txt\")\n",
    "\n",
    "# A = np.random.rand(m, n)\n",
    "# A = A.reshape(m,n)\n",
    "b = A @ np.ones((n, 1)) / 2\n",
    "# c = -np.random.rand(n, 1)"
   ]
  },
  {
   "cell_type": "code",
   "execution_count": 12,
   "metadata": {},
   "outputs": [
    {
     "data": {
      "text/plain": [
       "(100, 1)"
      ]
     },
     "execution_count": 12,
     "metadata": {},
     "output_type": "execute_result"
    }
   ],
   "source": [
    "c.shape"
   ]
  },
  {
   "cell_type": "code",
   "execution_count": 13,
   "metadata": {},
   "outputs": [
    {
     "data": {
      "text/plain": [
       "-33.16723960901254"
      ]
     },
     "execution_count": 13,
     "metadata": {},
     "output_type": "execute_result"
    }
   ],
   "source": [
    "x = cp.Variable((n, 1))\n",
    "constraints = [A @ x <= b, x >= np.zeros((n, 1)), x <= np.ones((n, 1))]\n",
    "obj = cp.Minimize(c.transpose() @ x)\n",
    "prob = cp.Problem(obj, constraints)\n",
    "L = prob.solve()\n",
    "L"
   ]
  },
  {
   "cell_type": "code",
   "execution_count": 14,
   "metadata": {},
   "outputs": [],
   "source": [
    "# x.value"
   ]
  },
  {
   "cell_type": "code",
   "execution_count": 15,
   "metadata": {},
   "outputs": [],
   "source": [
    "ts = np.linspace(0, 1, 100)\n",
    "x_hats = []\n",
    "U = []\n",
    "max_violations = []\n",
    "for t in ts:\n",
    "    x_hat = 1 * (x.value >= t)\n",
    "    x_hats.append(x_hat)\n",
    "    U.append(float(c.transpose() @ x_hat))\n",
    "    max_violations.append(float(max(A * x_hat - b)))"
   ]
  },
  {
   "cell_type": "code",
   "execution_count": 16,
   "metadata": {},
   "outputs": [
    {
     "data": {
      "image/png": "[encoded data removed]",
      "text/plain": [
       "<Figure size 1440x720 with 2 Axes>"
      ]
     },
     "metadata": {
      "needs_background": "light"
     },
     "output_type": "display_data"
    }
   ],
   "source": [
    "fig, axes = plt.subplots(1, 2, figsize=(20, 10))\n",
    "\n",
    "ax = axes[0]\n",
    "ax.plot(ts, U)\n",
    "ax.set_title(\"Upper bound\")\n",
    "\n",
    "ax = axes[1]\n",
    "ax.plot(ts, max_violations)\n",
    "ax.hlines(0, 0, 1, color=\"r\")\n",
    "ax.set_title(\"Max Violation\")\n",
    "\n",
    "for ax in axes:\n",
    "    ax.set_xlabel(\"$t$\")"
   ]
  },
  {
   "cell_type": "code",
   "execution_count": 17,
   "metadata": {},
   "outputs": [
    {
     "data": {
      "text/plain": [
       "-32.4450307431"
      ]
     },
     "execution_count": 17,
     "metadata": {},
     "output_type": "execute_result"
    }
   ],
   "source": [
    "U_star = min(obj for obj, maxviol in zip(U, max_violations) if maxviol <= 0)\n",
    "U_star"
   ]
  },
  {
   "cell_type": "code",
   "execution_count": 18,
   "metadata": {},
   "outputs": [
    {
     "data": {
      "text/plain": [
       "0.7222088659125419"
      ]
     },
     "execution_count": 18,
     "metadata": {},
     "output_type": "execute_result"
    }
   ],
   "source": [
    "U_star - L"
   ]
  },
  {
   "cell_type": "markdown",
   "metadata": {},
   "source": [
    "## Question 4\n",
    "We consider a portfolio optimization problem as described on pages 155 and 185–186 of the book, with data that can be found in the file simple_portfolio_data.m.\n",
    "\n",
    "Find minimum-risk portfolios with the same expected return as the uniform portfolio  𝑥=(1/𝑛)1 , with risk measured by portfolio return standard deviation, and the following portfolio constraints (in addition to  1𝑇𝑥=1 )."
   ]
  },
  {
   "cell_type": "code",
   "execution_count": 19,
   "metadata": {},
   "outputs": [],
   "source": [
    "S = read_matrix(\"S.txt\")\n",
    "pbar = read_matrix(\"pbar.txt\")\n",
    "n = pbar.shape[0]\n",
    "x_unif = np.ones((n, 1)) / n"
   ]
  },
  {
   "cell_type": "markdown",
   "metadata": {},
   "source": [
    "### Part a\n",
    "What is the risk of the uniform portfolio?"
   ]
  },
  {
   "cell_type": "code",
   "execution_count": 20,
   "metadata": {},
   "outputs": [
    {
     "name": "stdout",
     "output_type": "stream",
     "text": [
      "0.08703595741224256\n",
      "r = 9.9%, sigma = 8.7%\n"
     ]
    }
   ],
   "source": [
    "r_unif = float(pbar.T @ x_unif)\n",
    "vol_unif = np.sqrt(float(x_unif.T @ S @ x_unif))\n",
    "print(vol_unif)\n",
    "print(f\"r = {r_unif:0.1%}, sigma = {vol_unif:0.1%}\")"
   ]
  },
  {
   "cell_type": "markdown",
   "metadata": {},
   "source": [
    "What is the risk of an optimal portfolio with no (additional) constraints?"
   ]
  },
  {
   "cell_type": "code",
   "execution_count": 21,
   "metadata": {},
   "outputs": [],
   "source": [
    "x = cp.Variable(n)\n",
    "constraints = [pbar.T @ x >= r_unif, np.ones((1, n)) @ x == 1]\n",
    "obj = cp.Minimize(cp.quad_form(x, S))"
   ]
  },
  {
   "cell_type": "code",
   "execution_count": 22,
   "metadata": {},
   "outputs": [
    {
     "data": {
      "text/plain": [
       "0.018607150257670266"
      ]
     },
     "execution_count": 22,
     "metadata": {},
     "output_type": "execute_result"
    }
   ],
   "source": [
    "prob = cp.Problem(obj, constraints)\n",
    "optimal_sig = np.sqrt(prob.solve())\n",
    "optimal_sig"
   ]
  },
  {
   "cell_type": "markdown",
   "metadata": {},
   "source": [
    "What is the risk of a long-only portfolio  𝑥⪰0 ?"
   ]
  },
  {
   "cell_type": "code",
   "execution_count": 23,
   "metadata": {},
   "outputs": [],
   "source": [
    "constraints = [pbar.T @ x >= r_unif, np.ones((1, n)) @ x == 1, x >= 0]"
   ]
  },
  {
   "cell_type": "code",
   "execution_count": 24,
   "metadata": {},
   "outputs": [
    {
     "data": {
      "text/plain": [
       "0.05065821797569153"
      ]
     },
     "execution_count": 24,
     "metadata": {},
     "output_type": "execute_result"
    }
   ],
   "source": [
    "prob = cp.Problem(obj, constraints)\n",
    "optimal_sig = np.sqrt(prob.solve())\n",
    "optimal_sig"
   ]
  },
  {
   "cell_type": "markdown",
   "metadata": {},
   "source": [
    "What is the risk of a portfolio with a limit on total short position:  1𝑇(𝑥−)≤0.5 , where  (𝑥−)𝑖=max{−𝑥𝑖,0} ?"
   ]
  },
  {
   "cell_type": "code",
   "execution_count": 25,
   "metadata": {},
   "outputs": [],
   "source": [
    "x_plus = cp.Variable(n)\n",
    "x_neg = cp.Variable(n)\n",
    "x = x_plus - x_neg\n",
    "constraints = [\n",
    "    pbar.T @ x >= r_unif,\n",
    "    np.ones((1, n)) @ x == 1,\n",
    "    x_plus >= 0,\n",
    "    x_neg >= 0,\n",
    "    cp.sum(x_neg) <= 0.5,\n",
    "]\n",
    "obj = cp.Minimize(cp.quad_form(x, S))"
   ]
  },
  {
   "cell_type": "code",
   "execution_count": 26,
   "metadata": {},
   "outputs": [
    {
     "data": {
      "text/plain": [
       "0.020994685491867778"
      ]
     },
     "execution_count": 26,
     "metadata": {},
     "output_type": "execute_result"
    }
   ],
   "source": [
    "prob = cp.Problem(obj, constraints)\n",
    "optimal_sig = np.sqrt(prob.solve())\n",
    "optimal_sig"
   ]
  },
  {
   "cell_type": "code",
   "execution_count": 27,
   "metadata": {},
   "outputs": [
    {
     "data": {
      "text/plain": [
       "array([9.29156151e-02, 4.48411943e-20, 4.55709027e-20, 2.51124115e-02,\n",
       "       4.19763437e-20, 5.03397557e-20, 5.09181111e-20, 5.06315601e-20,\n",
       "       4.99824292e-20, 4.66216698e-20, 1.02742502e-01, 5.14486553e-20,\n",
       "       4.17897393e-20, 4.44254768e-20, 3.26855153e-02, 4.01060910e-02,\n",
       "       2.06437866e-01, 6.93387092e-20, 4.43604030e-20, 5.96813464e-20])"
      ]
     },
     "execution_count": 27,
     "metadata": {},
     "output_type": "execute_result"
    }
   ],
   "source": [
    "x_neg.value"
   ]
  },
  {
   "cell_type": "code",
   "execution_count": null,
   "metadata": {},
   "outputs": [],
   "source": []
  }
 ],
 "metadata": {
  "kernelspec": {
   "display_name": "Python 3",
   "language": "python",
   "name": "python3"
  },
  "language_info": {
   "codemirror_mode": {
    "name": "ipython",
    "version": 3
   },
   "file_extension": ".py",
   "mimetype": "text/x-python",
   "name": "python",
   "nbconvert_exporter": "python",
   "pygments_lexer": "ipython3",
   "version": "3.6.10"
  }
 },
 "nbformat": 4,
 "nbformat_minor": 4
}
