{
 "cells": [
  {
   "cell_type": "code",
   "execution_count": 1,
   "metadata": {},
   "outputs": [],
   "source": [
    "%load_ext lab_black"
   ]
  },
  {
   "cell_type": "code",
   "execution_count": 2,
   "metadata": {},
   "outputs": [],
   "source": [
    "from itertools import product\n",
    "\n",
    "import cvxpy as cp\n",
    "import numpy as np\n",
    "import matplotlib.pyplot as plt\n",
    "\n",
    "# cp.installed_solvers()"
   ]
  },
  {
   "cell_type": "markdown",
   "metadata": {},
   "source": [
    "## Question 1: Numerical perturbation analysis example"
   ]
  },
  {
   "cell_type": "markdown",
   "metadata": {},
   "source": [
    "$$\n",
    "\\begin{array}{ll}\\mbox{minimize} & x_1^2 + 2x_2^2 -x_1 x_2 - x_1\\\\ \\mbox{subject to} &  x_1 + 2 x_2 \\leq u_1 \\\\ &  x_1 - 4x_2 \\leq u_2, \\\\&  x_1+ x_2 \\geq -5, \\end{array}\n",
    "$$\n",
    "\n",
    "(a) Solve this QP, for parameter values  $u_1=−2,  u_2=−3$ , to find optimal primal variable values  $x^\\star_1$ and $x^\\star_2$, and optimal dual variable values  $\\lambda^\\star_1,  \\lambda^\\star_2$  and $ \\lambda^\\star_3$. Let  $p^\\star$  denote the optimal objective value. Verify that the KKT conditions hold for the optimal primal and dual variables you found (within reasonable numerical accuracy).\n",
    "\n",
    "Hint: See  § 4.7 of the CVX users' guide to find out how to retrieve optimal dual variables. To specify the quadratic objective, use quad_form()."
   ]
  },
  {
   "cell_type": "code",
   "execution_count": 3,
   "metadata": {},
   "outputs": [],
   "source": [
    "x = cp.Variable(2)\n",
    "u = cp.Parameter(2)\n",
    "u.value = np.array([-2, -3])\n",
    "x1, x2 = x\n",
    "u1, u2 = u\n",
    "\n",
    "P = np.matrix([[1, -0.5], [-0.5, 2]])\n",
    "\n",
    "constraints = [x1 + 2 * x2 <= u1, x1 - 4 * x2 <= u2, x1 + x2 >= -5]"
   ]
  },
  {
   "cell_type": "code",
   "execution_count": 4,
   "metadata": {},
   "outputs": [
    {
     "name": "stdout",
     "output_type": "stream",
     "text": [
      "\n",
      "ECOS 2.0.7 - (C) embotech GmbH, Zurich Switzerland, 2012-15. Web: www.embotech.com/ECOS\n",
      "\n",
      "It     pcost       dcost      gap   pres   dres    k/t    mu     step   sigma     IR    |   BT\n",
      " 0  +3.402e+00  +4.712e-01  +2e+01  3e-01  1e-01  1e+00  5e+00    ---    ---    1  1  - |  -  - \n",
      " 1  +4.341e+00  +4.370e+00  +4e+00  6e-02  2e-02  7e-01  1e+00  0.8991  1e-01   1  2  2 |  0  0\n",
      " 2  +6.698e+00  +6.966e+00  +7e-01  2e-02  5e-03  5e-01  2e-01  0.8906  9e-02   2  2  2 |  0  0\n",
      " 3  +7.391e+00  +7.786e+00  +4e-01  2e-02  3e-03  6e-01  9e-02  0.6714  2e-01   2  2  2 |  0  0\n",
      " 4  +8.124e+00  +8.132e+00  +3e-02  2e-03  3e-04  2e-02  7e-03  0.9240  4e-03   2  1  2 |  0  0\n",
      " 5  +8.221e+00  +8.221e+00  +2e-03  9e-05  2e-05  3e-04  5e-04  0.9579  2e-02   2  2  2 |  0  0\n",
      " 6  +8.222e+00  +8.222e+00  +1e-04  5e-06  9e-07  2e-05  3e-05  0.9415  3e-04   2  1  1 |  0  0\n",
      " 7  +8.222e+00  +8.222e+00  +7e-06  3e-07  5e-08  6e-06  2e-06  0.9890  5e-02   2  1  1 |  0  0\n",
      " 8  +8.222e+00  +8.222e+00  +7e-08  3e-09  6e-10  6e-08  2e-08  0.9890  1e-04   3  1  1 |  0  0\n",
      "\n",
      "OPTIMAL (within feastol=3.2e-09, reltol=8.9e-09, abstol=7.3e-08).\n",
      "Runtime: 0.000364 seconds.\n",
      "\n"
     ]
    },
    {
     "data": {
      "text/plain": [
       "8.222222072969965"
      ]
     },
     "execution_count": 4,
     "metadata": {},
     "output_type": "execute_result"
    }
   ],
   "source": [
    "obj = cp.Minimize(cp.quad_form(x, P) - x1)\n",
    "prob = cp.Problem(obj, constraints)\n",
    "p_star_exact = prob.solve(solver=cp.ECOS, verbose=True)\n",
    "p_star_exact"
   ]
  },
  {
   "cell_type": "markdown",
   "metadata": {},
   "source": [
    "What is $x^\\star_2$? Enter your result rounded to two decimal places."
   ]
  },
  {
   "cell_type": "code",
   "execution_count": 5,
   "metadata": {},
   "outputs": [
    {
     "data": {
      "text/plain": [
       "0.17"
      ]
     },
     "execution_count": 5,
     "metadata": {},
     "output_type": "execute_result"
    }
   ],
   "source": [
    "round(x2.value, 2)"
   ]
  },
  {
   "cell_type": "code",
   "execution_count": 6,
   "metadata": {},
   "outputs": [
    {
     "name": "stdout",
     "output_type": "stream",
     "text": [
      "var0[0] + 2.0 @ var0[1] <= param1[0] Dual value: 3.388883249964853\n",
      "var0[0] + -4.0 @ var0[1] <= param1[1] Dual value: 2.4444405402094027\n",
      "-5.0 <= var0[0] + var0[1] Dual value: 2.3029364231050273e-08\n"
     ]
    }
   ],
   "source": [
    "for c in constraints:\n",
    "    print(c.name(), \"Dual value:\", c.dual_value)"
   ]
  },
  {
   "cell_type": "markdown",
   "metadata": {},
   "source": [
    "What is $\\lambda^\\star_3$? Enter your result rounded to two decimal places."
   ]
  },
  {
   "cell_type": "code",
   "execution_count": 7,
   "metadata": {},
   "outputs": [
    {
     "data": {
      "text/plain": [
       "0.0"
      ]
     },
     "execution_count": 7,
     "metadata": {},
     "output_type": "execute_result"
    }
   ],
   "source": [
    "round(constraints[2].dual_value, 2)"
   ]
  },
  {
   "cell_type": "markdown",
   "metadata": {},
   "source": [
    "(b) We will now solve some perturbed versions of the QP, with\n",
    "$$\n",
    "u_1 = -2 + \\delta_1, \\qquad u_2 = -3 + \\delta_2,\n",
    "$$\n",
    "\n",
    "where $\\delta_1$ and  $\\delta_2$  each take values from  $\\{−0.1,0,0.1\\}$ . (There are a total of nine such combinations, including the original problem with  $\\delta_1=\\delta_2=0$.) For each combination of  $\\delta_1$ and  $\\delta_2$ , make a prediction  $p^\\star_\\mathrm{pred}$ pred of the optimal value of the perturbed QP, and compare it to  $p^\\star_\\mathrm{exact}$, the exact optimal value of the perturbed QP (obtained by solving the perturbed QP). Find the values that belong in the two righthand columns in a table with the form shown below. Check that the inequality $p^\\star_\\mathrm{pred} \\leq p^\\star_\\mathrm{exact}$  holds.\n",
    "\n",
    "$$\n",
    "\\begin{array}{|r||r|r|r|r|}\\hline\\mathrm{\\#}&\\delta_1 & \\delta_2 & p^\\star_\\mathrm{pred} &  p^\\star_\\mathrm{exact}\\\\\\hline1&0 & 0 & & \\\\2&0 & -0.1 &  & \\\\3&0 & 0.1 &  & \\\\\\hline4&-0.1 & 0 & & \\\\5&-0.1 & -0.1 &  & \\\\6&-0.1 & 0.1 &  & \\\\\\hline7&0.1 & 0 & & \\\\8&0.1 & -0.1 &  & \\\\9&0.1 & 0.1 &  & \\\\\\hline\\end{array}\n",
    "$$\n",
    "\n",
    "For which perturbations (other than number 1) is  $p^\\star_\\mathrm{exact} - p^\\star_\\mathrm{pred}$ the smallest?"
   ]
  },
  {
   "cell_type": "code",
   "execution_count": 8,
   "metadata": {},
   "outputs": [],
   "source": [
    "def predict(p_star_exact, dual_values, perturbs):\n",
    "    return p_star_exact - sum(d * p for d, p in zip(dual_values, perturbs))"
   ]
  },
  {
   "cell_type": "code",
   "execution_count": 9,
   "metadata": {},
   "outputs": [],
   "source": [
    "deltas = [-0.1, 0, 0.1]\n",
    "dual_values = [float(c.dual_value) for c in constraints[:2]]"
   ]
  },
  {
   "cell_type": "code",
   "execution_count": 10,
   "metadata": {},
   "outputs": [
    {
     "data": {
      "text/plain": [
       "array([-2, -3])"
      ]
     },
     "execution_count": 10,
     "metadata": {},
     "output_type": "execute_result"
    }
   ],
   "source": [
    "u.value"
   ]
  },
  {
   "cell_type": "code",
   "execution_count": 11,
   "metadata": {},
   "outputs": [
    {
     "data": {
      "text/plain": [
       "([3.388883249964853, 2.4444405402094027], 8.222222072969965)"
      ]
     },
     "execution_count": 11,
     "metadata": {},
     "output_type": "execute_result"
    }
   ],
   "source": [
    "dual_values, p_star_exact"
   ]
  },
  {
   "cell_type": "code",
   "execution_count": 12,
   "metadata": {},
   "outputs": [],
   "source": [
    "p_star_preds = {}\n",
    "p_star_exacts = {}\n",
    "for delta1, delta2 in product(deltas, deltas):\n",
    "    u.value = np.array([-2 + delta1, -3 + delta2])\n",
    "    p_star_preds[delta1, delta2] = predict(p_star_exact, dual_values, (delta1, delta2))\n",
    "    p_star_exacts[delta1, delta2] = prob.solve()\n",
    "    assert (\n",
    "        p_star_preds[delta1, delta2] <= p_star_exacts[delta1, delta2]\n",
    "    ), f\"Something went wrong with {delta1, delta2}\""
   ]
  },
  {
   "cell_type": "code",
   "execution_count": 13,
   "metadata": {},
   "outputs": [
    {
     "data": {
      "text/plain": [
       "{(-0.1, -0.1): 0.010001103568162861,\n",
       " (-0.1, 0): 0.0038925163628817927,\n",
       " (-0.1, 0.1): 0.0022254082015091825,\n",
       " (0, -0.1): 0.002212352290355213,\n",
       " (0, 0): 3.016881493067558e-06,\n",
       " (0, 0.1): 0.0022247975628992833,\n",
       " (0.1, -0.1): 0.002211988952181443,\n",
       " (0.1, 0): 0.0038912951302849663,\n",
       " (0.1, 0.1): 0.010001964702078148}"
      ]
     },
     "execution_count": 13,
     "metadata": {},
     "output_type": "execute_result"
    }
   ],
   "source": [
    "table = {k: p_star_exacts[k] - v for k, v in p_star_preds.items()}\n",
    "table"
   ]
  },
  {
   "cell_type": "code",
   "execution_count": 14,
   "metadata": {},
   "outputs": [
    {
     "name": "stdout",
     "output_type": "stream",
     "text": [
      "(0.1, -0.1) 0.002211988952181443\n"
     ]
    }
   ],
   "source": [
    "min_key = min({k: v for k, v in table.items() if v > 1e-4}, key=table.get)\n",
    "print(min_key, table[min_key])"
   ]
  },
  {
   "cell_type": "code",
   "execution_count": 15,
   "metadata": {},
   "outputs": [
    {
     "data": {
      "text/plain": [
       "[(1, (0, 0)),\n",
       " (2, (0.1, -0.1)),\n",
       " (3, (0, -0.1)),\n",
       " (4, (0, 0.1)),\n",
       " (5, (-0.1, 0.1)),\n",
       " (6, (0.1, 0)),\n",
       " (7, (-0.1, 0)),\n",
       " (8, (-0.1, -0.1)),\n",
       " (9, (0.1, 0.1))]"
      ]
     },
     "execution_count": 15,
     "metadata": {},
     "output_type": "execute_result"
    }
   ],
   "source": [
    "[(i, k) for i, k in enumerate(sorted(table, key=table.get), start=1)]"
   ]
  },
  {
   "cell_type": "markdown",
   "metadata": {},
   "source": [
    "## Question 2: A simple example\n",
    "Consider the optimization problem\n",
    "$$\n",
    "\\begin{array}{ll} \\mbox{minimize}   & x^2 + 1 \\\\\\mbox{subject to} & (x-2)(x-4) \\leq 0,\\end{array}\n",
    "$$\n",
    "\n",
    "with variable $x\\in\\mathbf{R}$."
   ]
  },
  {
   "cell_type": "markdown",
   "metadata": {},
   "source": [
    "(a) Analysis of primal problem. What is the optimal value?"
   ]
  },
  {
   "cell_type": "code",
   "execution_count": 16,
   "metadata": {},
   "outputs": [
    {
     "data": {
      "text/plain": [
       "5.000000000000002"
      ]
     },
     "execution_count": 16,
     "metadata": {},
     "output_type": "execute_result"
    }
   ],
   "source": [
    "x = cp.Variable()\n",
    "constraint = [x >= 2, x <= 4]\n",
    "obj = cp.Minimize(1 + x ** 2)\n",
    "prob = cp.Problem(obj, constraint)\n",
    "prob.solve()"
   ]
  },
  {
   "cell_type": "markdown",
   "metadata": {},
   "source": [
    "(b) Lagrangian and dual function. Plot the objective  $x^2+1$ versus $x$ . On the same plot, show the feasible set, optimal point and value, and plot the Lagrangian  $L(x,\\lambda)$ versus $x$ for a few positive values of $\\lambda$. Verify the lower bound property ($p^\\star \\geq \\inf_x L(x,\\lambda)$ for $\\lambda \\ge0$). Derive and sketch the Lagrange dual function $g$."
   ]
  },
  {
   "cell_type": "code",
   "execution_count": 17,
   "metadata": {},
   "outputs": [],
   "source": [
    "def L(x, λ):\n",
    "    return (x ** 2) + 1 - λ * (x - 2) * (x - 4)\n",
    "\n",
    "\n",
    "def g(λ):\n",
    "    result = -9 * pow(λ, 2) / (1 + λ)\n",
    "    result += 1 + 8 * λ\n",
    "    return result"
   ]
  },
  {
   "cell_type": "code",
   "execution_count": 18,
   "metadata": {},
   "outputs": [
    {
     "data": {
      "image/png": "[encoded data removed]",
      "text/plain": [
       "<Figure size 2160x720 with 3 Axes>"
      ]
     },
     "metadata": {
      "needs_background": "light"
     },
     "output_type": "display_data"
    }
   ],
   "source": [
    "fig, axes = plt.subplots(1, 3, figsize=(30, 10))\n",
    "\n",
    "ax = axes[0]\n",
    "x = np.linspace(1.5, 4.5, num=1000)\n",
    "y = 1 + x ** 2\n",
    "ax.plot(x, y, label=\"Objective\")\n",
    "ax.hlines(0, 2, 4, color=\"r\", ls=\"--\", label=\"Feasible set\")\n",
    "ax.plot(2, 0, \"ro\", label=\"Optimal point\")\n",
    "ax.plot(2, 5, \"go\", label=\"Optimal value\")\n",
    "ax.fill_between(\n",
    "    x,\n",
    "    y,\n",
    "    y2=25,\n",
    "    facecolor=\"b\",\n",
    "    where=(2 <= x) & (x <= 4),\n",
    "    alpha=0.25,\n",
    "    label=\"Sub-level sets\",\n",
    ")\n",
    "ax.set_title(\"Primal Problem\")\n",
    "ax.set_xlabel(\"$x$\")\n",
    "ax.set_ylabel(\"$f_0(x)$\")\n",
    "\n",
    "ax = axes[1]\n",
    "ax.vlines(2, 0, 25, color=\"y\", ls=\"--\", label=\"Feasible set\")\n",
    "ax.vlines(4, 0, 25, color=\"y\", ls=\"--\", label=\"Feasible set\")\n",
    "ax.hlines(5, 2, 4, color=\"k\", lw=2, label=\"$p^\\star$\")\n",
    "for λ in np.exp(np.arange(-2, 2, 1)):\n",
    "    ax.plot(x, L(x, λ), label=f\"$L(x,\\lambda={λ:0.2f})$\")\n",
    "ax.set_title(\"Lagrange Function\")\n",
    "ax.set_xlabel(\"$x$\")\n",
    "ax.set_ylabel(\"$f_0(x)$\")\n",
    "\n",
    "ax = axes[2]\n",
    "λ = np.linspace(0, 5, num=1000)\n",
    "ax.plot(λ, g(λ), label=\"$g(\\lambda)$\")\n",
    "ax.set_title(\"Lagrange Dual Function\")\n",
    "ax.set_xlabel(\"$\\lambda$\")\n",
    "ax.set_ylabel(\"$g(\\lambda)$\")\n",
    "\n",
    "for ax in axes:\n",
    "    ax.grid()\n",
    "    ax.legend()\n",
    "\n",
    "fig.tight_layout()"
   ]
  },
  {
   "cell_type": "markdown",
   "metadata": {},
   "source": [
    "## Question 3: Lagrangian relaxation of Boolean LP\n",
    "A Boolean linear program is an optimization problem of the form\n",
    "$$\n",
    "\\begin{array}{ll}\\mbox{minimize} & c^T x \\\\\\mbox{subject to} & Ax \\preceq b \\\\& x_i \\in \\{0,1 \\}, \\quad i=1,\\ldots,n,\\end{array}\n",
    "$$\n",
    "\n",
    "and is, in general, very difficult to solve. In exercise 4.15 we studied the LP relaxation of this problem,\n",
    "\n",
    "$$\n",
    "\\begin{array}{ll}\\mbox{minimize} & c^T x \\\\ \\mbox{subject to} & Ax \\preceq b\\\\ & 0 \\leq x_i \\leq 1, \\quad i=1,\\ldots,n, \\end{array}\n",
    "$$\n",
    "\n",
    "which is far easier to solve, and gives a lower bound on the optimal value of the Boolean LP. In this problem we derive another lower bound for the Boolean LP, and work out the relation between the two lower bounds.\n",
    "\n",
    "(a) *Lagrangian relaxation*. The Boolean LP can be reformulated as the problem\n",
    "\n",
    "$$\n",
    "\\begin{array}{ll}\\mbox{minimize}   & c^T x \\\\\\mbox{subject to} & Ax \\preceq b \\\\ & x_i(1-x_i)=0, \\quad i=1,\\ldots,n,\\end{array}\n",
    "$$\n",
    "\n",
    "which has quadratic equality constraints. The Lagrange dual of this problem is\n",
    "\n",
    "$$\n",
    "\\begin{array}{ll}\\mbox{maximize}  & \\underline{\\hspace{1.5cm}}  \\\\\\mbox{subject to}  & \\mu \\succeq 0.\\end{array}\n",
    "$$"
   ]
  },
  {
   "cell_type": "markdown",
   "metadata": {},
   "source": [
    "The correct equation that fills the blank spot is:\n",
    "$$\n",
    "-b^T \\mu + \\sum_{i=1}^n \\min\\{0,c_i+a_i^T\\mu\\}\n",
    "$$"
   ]
  },
  {
   "cell_type": "markdown",
   "metadata": {},
   "source": [
    "The optimal value of the dual problem (which is convex) gives a lower bound on the optimal value of the Boolean LP. This method of finding a lower bound on the optimal value is called Lagrangian relaxation.\n",
    "\n",
    "(b) The lower bound obtained via Lagrangian relaxation, and via the LP relaxation are the same. The dual of the LP relaxation is\n",
    "$$\n",
    "\\begin{array}{ll}\\mbox{maximize} & \\underline{\\hspace{1.5cm}} \\\\\\mbox{subject to} & A^T u - v+ w + c = 0 \\\\  & u\\succeq 0, v\\succeq 0, w\\succeq 0.\\end{array}\n",
    "$$\n",
    "The correct equation that fills the blank spot is"
   ]
  },
  {
   "cell_type": "markdown",
   "metadata": {},
   "source": [
    "$$\n",
    "- b^T u - \\mathbf{1}^T w\n",
    "$$"
   ]
  },
  {
   "cell_type": "markdown",
   "metadata": {},
   "source": [
    "## Question 4: Option Price Bounds\n",
    "\n",
    "In this problem we use the methods and results of Example 5.10 to give bounds on the arbitrage-free price of an option. (See Exercise 5.38 for a simple version of option pricing.) We will use all the notation and definitions from Example 5.10.\n",
    "\n",
    "We consider here options on an underlying asset (such as a stock); these have a payoff or value that depends on $S$, the value of the underlying asset at the end of the investment period. We will assume that the underying asset can only take on $m$ different values, $S^{(1)},\\ldots, S^{(m)}$. These correspond to the $m$  possible scenarios or outcomes described in Example 5.10.\n",
    "\n",
    "A risk-free asset has value $r>1$ in every scenario.\n",
    "\n",
    "A put option at strike price $K$ gives the owner the right to sell one unit of the underlying stock at price $K$. At the end of the investment period, if the stock is trading at a price  𝑆 , then the put option has payoff $(K-S)_+=\\max\\{0,K-S\\}$ (since the option is exercised only if  𝐾>𝑆 ). Similarly a call option at strike price  𝐾  gives the buyer the right to buy a unit of stock at price  𝐾 . A call option has payoff $(S-K)_+=\\max\\{0,S-K\\}$.\n",
    "\n",
    "A collar is an option with payoff\n",
    "\n",
    "$$\n",
    "\\begin{cases}\n",
    "C-S_0 & S>C\\\\\n",
    "S-S_0 & F \\leq S \\leq C\\\\\n",
    "F-S_0 & S \\le F\n",
    "\\end{cases}\n",
    "$$\n",
    "\n",
    "where  𝐹  is the floor,  𝐶  is the cap and  𝑆0  is the price of the underlying at the start of the investment period. This option limits both the upside and downside of payoff.\n",
    "\n",
    "Now we consider a specific problem. The price of the risk-free asset, with  $r=1.05$, is 1 . The price of the underlying asset is  $S_0=1$ . We will use $m=200$  scenarios, with $S(i)$ uniformly spaced from $S(1)=0.5$ to $S(200)=2$. The following options are traded on an exchange, with prices listed below.\n",
    "\n",
    "\n",
    "|Type|\tStrike|\tPrice|\n",
    "|-|-|-|\n",
    "|Call\t|1.1\t|0.06|\n",
    "|Call\t|1.2\t|0.03|\n",
    "|Put\t|0.8\t|0.02|\n",
    "|Put\t|0.7\t|0.01|\n",
    "\n",
    "A collar with floor  $F=0.9$  and cap  $C=1.15$  is not traded on an exchange. Find the range of prices for this collar, consistent with the absence of arbitrage and the prices given above. Enter your results rounded to three decimal places.\n"
   ]
  },
  {
   "cell_type": "code",
   "execution_count": 19,
   "metadata": {},
   "outputs": [],
   "source": [
    "n = 7\n",
    "m = 200\n",
    "S0 = 1\n",
    "r0 = 1\n",
    "r = 1.05\n",
    "S = np.linspace(0.5, 2, 200)\n",
    "C = 1.15\n",
    "F = 0.9"
   ]
  },
  {
   "cell_type": "code",
   "execution_count": 20,
   "metadata": {},
   "outputs": [],
   "source": [
    "# S, r, Call 1.1, Call 1.2, Put 0.8, Put 0.7, Collar 0.9 1.15\n",
    "V = np.empty((m, n))\n",
    "V[:] = np.nan"
   ]
  },
  {
   "cell_type": "code",
   "execution_count": 21,
   "metadata": {},
   "outputs": [],
   "source": [
    "V[:, 0] = S\n",
    "V[:, 1] = r\n",
    "V[:, 2] = np.maximum(S - 1.1, 0)\n",
    "V[:, 3] = np.maximum(S - 1.2, 0)\n",
    "V[:, 4] = np.maximum(0.8 - S, 0)\n",
    "V[:, 5] = np.maximum(0.7 - S, 0)\n",
    "V[:, 6] = (C - S0) * (S > C) + (S - S0) * (F <= S) * (S <= C) + (F - S0) * (S <= F)"
   ]
  },
  {
   "cell_type": "code",
   "execution_count": 22,
   "metadata": {},
   "outputs": [
    {
     "data": {
      "text/plain": [
       "(200, 7)"
      ]
     },
     "execution_count": 22,
     "metadata": {},
     "output_type": "execute_result"
    }
   ],
   "source": [
    "V.shape"
   ]
  },
  {
   "cell_type": "code",
   "execution_count": 23,
   "metadata": {},
   "outputs": [],
   "source": [
    "# V[:, 6]"
   ]
  },
  {
   "cell_type": "code",
   "execution_count": 24,
   "metadata": {},
   "outputs": [],
   "source": [
    "y = cp.Variable(m)\n",
    "pn = cp.Variable()\n",
    "p = np.array([S0, r0, 0.06, 0.03, 0.02, 0.01])\n",
    "constraints = [V[:, :-1].T @ y == p, V[:, -1].T @ y == pn, y >= 0]"
   ]
  },
  {
   "cell_type": "code",
   "execution_count": 25,
   "metadata": {},
   "outputs": [
    {
     "data": {
      "text/plain": [
       "0.032619047619008155"
      ]
     },
     "execution_count": 25,
     "metadata": {},
     "output_type": "execute_result"
    }
   ],
   "source": [
    "obj = cp.Minimize(pn)\n",
    "prob = cp.Problem(obj, constraints)\n",
    "pn_lower = prob.solve()\n",
    "pn_lower"
   ]
  },
  {
   "cell_type": "markdown",
   "metadata": {},
   "source": [
    "Lower bound ="
   ]
  },
  {
   "cell_type": "code",
   "execution_count": 26,
   "metadata": {},
   "outputs": [
    {
     "data": {
      "text/plain": [
       "0.033"
      ]
     },
     "execution_count": 26,
     "metadata": {},
     "output_type": "execute_result"
    }
   ],
   "source": [
    "round(pn_lower, 3)"
   ]
  },
  {
   "cell_type": "code",
   "execution_count": 27,
   "metadata": {},
   "outputs": [
    {
     "data": {
      "text/plain": [
       "0.06495039682537877"
      ]
     },
     "execution_count": 27,
     "metadata": {},
     "output_type": "execute_result"
    }
   ],
   "source": [
    "obj = cp.Maximize(pn)\n",
    "prob = cp.Problem(obj, constraints)\n",
    "pn_upper = prob.solve()\n",
    "pn_upper"
   ]
  },
  {
   "cell_type": "markdown",
   "metadata": {},
   "source": [
    "Upper bound ="
   ]
  },
  {
   "cell_type": "code",
   "execution_count": 28,
   "metadata": {},
   "outputs": [
    {
     "data": {
      "text/plain": [
       "0.065"
      ]
     },
     "execution_count": 28,
     "metadata": {},
     "output_type": "execute_result"
    }
   ],
   "source": [
    "round(pn_upper, 3)"
   ]
  }
 ],
 "metadata": {
  "kernelspec": {
   "display_name": "Python 3",
   "language": "python",
   "name": "python3"
  },
  "language_info": {
   "codemirror_mode": {
    "name": "ipython",
    "version": 3
   },
   "file_extension": ".py",
   "mimetype": "text/x-python",
   "name": "python",
   "nbconvert_exporter": "python",
   "pygments_lexer": "ipython3",
   "version": "3.6.10"
  }
 },
 "nbformat": 4,
 "nbformat_minor": 4
}
